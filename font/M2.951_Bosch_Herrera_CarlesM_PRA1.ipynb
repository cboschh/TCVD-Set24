{
 "cells": [
  {
   "cell_type": "markdown",
   "id": "482dd086",
   "metadata": {},
   "source": [
    "# M2.951_Bosch_Herrera_CarlesM_PRA1"
   ]
  },
  {
   "cell_type": "markdown",
   "id": "4f404660",
   "metadata": {},
   "source": [
    "## PRÀCTICA 1 - TCVD  - Feb24"
   ]
  },
  {
   "cell_type": "code",
   "execution_count": 1,
   "id": "5fdb43f7",
   "metadata": {},
   "outputs": [],
   "source": [
    "# importem les llibreries\n",
    "import numpy as np\n",
    "import pandas as pd\n",
    "import matplotlib.pyplot as plt\n",
    "import seaborn as sns\n",
    "import sklearn as skl\n",
    "import scipy.stats as stats"
   ]
  },
  {
   "cell_type": "code",
   "execution_count": 2,
   "id": "caea2e43",
   "metadata": {},
   "outputs": [],
   "source": [
    "# Eliminarem els possibles warnings\n",
    "\n",
    "import warnings\n",
    "warnings.filterwarnings('ignore')"
   ]
  },
  {
   "cell_type": "markdown",
   "id": "298ecb15",
   "metadata": {},
   "source": [
    "### ANÀLISI EXPLORATÒRIA"
   ]
  },
  {
   "cell_type": "code",
   "execution_count": 3,
   "id": "0b58317e",
   "metadata": {},
   "outputs": [],
   "source": [
    "# Carreguem les dades\n",
    "train = pd.read_csv(\"C:/Users/kangu/Desktop/train.csv\")\n",
    "test  = pd.read_csv(\"C:/Users/kangu/Desktop/test.csv\")"
   ]
  },
  {
   "cell_type": "code",
   "execution_count": 4,
   "id": "4c67f07d",
   "metadata": {},
   "outputs": [
    {
     "data": {
      "text/html": [
       "<div>\n",
       "<style scoped>\n",
       "    .dataframe tbody tr th:only-of-type {\n",
       "        vertical-align: middle;\n",
       "    }\n",
       "\n",
       "    .dataframe tbody tr th {\n",
       "        vertical-align: top;\n",
       "    }\n",
       "\n",
       "    .dataframe thead th {\n",
       "        text-align: right;\n",
       "    }\n",
       "</style>\n",
       "<table border=\"1\" class=\"dataframe\">\n",
       "  <thead>\n",
       "    <tr style=\"text-align: right;\">\n",
       "      <th></th>\n",
       "      <th>PassengerId</th>\n",
       "      <th>Survived</th>\n",
       "      <th>Pclass</th>\n",
       "      <th>Name</th>\n",
       "      <th>Sex</th>\n",
       "      <th>Age</th>\n",
       "      <th>SibSp</th>\n",
       "      <th>Parch</th>\n",
       "      <th>Ticket</th>\n",
       "      <th>Fare</th>\n",
       "      <th>Cabin</th>\n",
       "      <th>Embarked</th>\n",
       "    </tr>\n",
       "  </thead>\n",
       "  <tbody>\n",
       "    <tr>\n",
       "      <th>0</th>\n",
       "      <td>1</td>\n",
       "      <td>0</td>\n",
       "      <td>3</td>\n",
       "      <td>Braund, Mr. Owen Harris</td>\n",
       "      <td>male</td>\n",
       "      <td>22.0</td>\n",
       "      <td>1</td>\n",
       "      <td>0</td>\n",
       "      <td>A/5 21171</td>\n",
       "      <td>7.2500</td>\n",
       "      <td>NaN</td>\n",
       "      <td>S</td>\n",
       "    </tr>\n",
       "    <tr>\n",
       "      <th>1</th>\n",
       "      <td>2</td>\n",
       "      <td>1</td>\n",
       "      <td>1</td>\n",
       "      <td>Cumings, Mrs. John Bradley (Florence Briggs Th...</td>\n",
       "      <td>female</td>\n",
       "      <td>38.0</td>\n",
       "      <td>1</td>\n",
       "      <td>0</td>\n",
       "      <td>PC 17599</td>\n",
       "      <td>71.2833</td>\n",
       "      <td>C85</td>\n",
       "      <td>C</td>\n",
       "    </tr>\n",
       "    <tr>\n",
       "      <th>2</th>\n",
       "      <td>3</td>\n",
       "      <td>1</td>\n",
       "      <td>3</td>\n",
       "      <td>Heikkinen, Miss. Laina</td>\n",
       "      <td>female</td>\n",
       "      <td>26.0</td>\n",
       "      <td>0</td>\n",
       "      <td>0</td>\n",
       "      <td>STON/O2. 3101282</td>\n",
       "      <td>7.9250</td>\n",
       "      <td>NaN</td>\n",
       "      <td>S</td>\n",
       "    </tr>\n",
       "    <tr>\n",
       "      <th>3</th>\n",
       "      <td>4</td>\n",
       "      <td>1</td>\n",
       "      <td>1</td>\n",
       "      <td>Futrelle, Mrs. Jacques Heath (Lily May Peel)</td>\n",
       "      <td>female</td>\n",
       "      <td>35.0</td>\n",
       "      <td>1</td>\n",
       "      <td>0</td>\n",
       "      <td>113803</td>\n",
       "      <td>53.1000</td>\n",
       "      <td>C123</td>\n",
       "      <td>S</td>\n",
       "    </tr>\n",
       "    <tr>\n",
       "      <th>4</th>\n",
       "      <td>5</td>\n",
       "      <td>0</td>\n",
       "      <td>3</td>\n",
       "      <td>Allen, Mr. William Henry</td>\n",
       "      <td>male</td>\n",
       "      <td>35.0</td>\n",
       "      <td>0</td>\n",
       "      <td>0</td>\n",
       "      <td>373450</td>\n",
       "      <td>8.0500</td>\n",
       "      <td>NaN</td>\n",
       "      <td>S</td>\n",
       "    </tr>\n",
       "  </tbody>\n",
       "</table>\n",
       "</div>"
      ],
      "text/plain": [
       "   PassengerId  Survived  Pclass  \\\n",
       "0            1         0       3   \n",
       "1            2         1       1   \n",
       "2            3         1       3   \n",
       "3            4         1       1   \n",
       "4            5         0       3   \n",
       "\n",
       "                                                Name     Sex   Age  SibSp  \\\n",
       "0                            Braund, Mr. Owen Harris    male  22.0      1   \n",
       "1  Cumings, Mrs. John Bradley (Florence Briggs Th...  female  38.0      1   \n",
       "2                             Heikkinen, Miss. Laina  female  26.0      0   \n",
       "3       Futrelle, Mrs. Jacques Heath (Lily May Peel)  female  35.0      1   \n",
       "4                           Allen, Mr. William Henry    male  35.0      0   \n",
       "\n",
       "   Parch            Ticket     Fare Cabin Embarked  \n",
       "0      0         A/5 21171   7.2500   NaN        S  \n",
       "1      0          PC 17599  71.2833   C85        C  \n",
       "2      0  STON/O2. 3101282   7.9250   NaN        S  \n",
       "3      0            113803  53.1000  C123        S  \n",
       "4      0            373450   8.0500   NaN        S  "
      ]
     },
     "execution_count": 4,
     "metadata": {},
     "output_type": "execute_result"
    }
   ],
   "source": [
    "train.head()"
   ]
  },
  {
   "cell_type": "code",
   "execution_count": 5,
   "id": "ffce3ade",
   "metadata": {},
   "outputs": [
    {
     "data": {
      "text/html": [
       "<div>\n",
       "<style scoped>\n",
       "    .dataframe tbody tr th:only-of-type {\n",
       "        vertical-align: middle;\n",
       "    }\n",
       "\n",
       "    .dataframe tbody tr th {\n",
       "        vertical-align: top;\n",
       "    }\n",
       "\n",
       "    .dataframe thead th {\n",
       "        text-align: right;\n",
       "    }\n",
       "</style>\n",
       "<table border=\"1\" class=\"dataframe\">\n",
       "  <thead>\n",
       "    <tr style=\"text-align: right;\">\n",
       "      <th></th>\n",
       "      <th>PassengerId</th>\n",
       "      <th>Pclass</th>\n",
       "      <th>Name</th>\n",
       "      <th>Sex</th>\n",
       "      <th>Age</th>\n",
       "      <th>SibSp</th>\n",
       "      <th>Parch</th>\n",
       "      <th>Ticket</th>\n",
       "      <th>Fare</th>\n",
       "      <th>Cabin</th>\n",
       "      <th>Embarked</th>\n",
       "    </tr>\n",
       "  </thead>\n",
       "  <tbody>\n",
       "    <tr>\n",
       "      <th>0</th>\n",
       "      <td>892</td>\n",
       "      <td>3</td>\n",
       "      <td>Kelly, Mr. James</td>\n",
       "      <td>male</td>\n",
       "      <td>34.5</td>\n",
       "      <td>0</td>\n",
       "      <td>0</td>\n",
       "      <td>330911</td>\n",
       "      <td>7.8292</td>\n",
       "      <td>NaN</td>\n",
       "      <td>Q</td>\n",
       "    </tr>\n",
       "    <tr>\n",
       "      <th>1</th>\n",
       "      <td>893</td>\n",
       "      <td>3</td>\n",
       "      <td>Wilkes, Mrs. James (Ellen Needs)</td>\n",
       "      <td>female</td>\n",
       "      <td>47.0</td>\n",
       "      <td>1</td>\n",
       "      <td>0</td>\n",
       "      <td>363272</td>\n",
       "      <td>7.0000</td>\n",
       "      <td>NaN</td>\n",
       "      <td>S</td>\n",
       "    </tr>\n",
       "    <tr>\n",
       "      <th>2</th>\n",
       "      <td>894</td>\n",
       "      <td>2</td>\n",
       "      <td>Myles, Mr. Thomas Francis</td>\n",
       "      <td>male</td>\n",
       "      <td>62.0</td>\n",
       "      <td>0</td>\n",
       "      <td>0</td>\n",
       "      <td>240276</td>\n",
       "      <td>9.6875</td>\n",
       "      <td>NaN</td>\n",
       "      <td>Q</td>\n",
       "    </tr>\n",
       "    <tr>\n",
       "      <th>3</th>\n",
       "      <td>895</td>\n",
       "      <td>3</td>\n",
       "      <td>Wirz, Mr. Albert</td>\n",
       "      <td>male</td>\n",
       "      <td>27.0</td>\n",
       "      <td>0</td>\n",
       "      <td>0</td>\n",
       "      <td>315154</td>\n",
       "      <td>8.6625</td>\n",
       "      <td>NaN</td>\n",
       "      <td>S</td>\n",
       "    </tr>\n",
       "    <tr>\n",
       "      <th>4</th>\n",
       "      <td>896</td>\n",
       "      <td>3</td>\n",
       "      <td>Hirvonen, Mrs. Alexander (Helga E Lindqvist)</td>\n",
       "      <td>female</td>\n",
       "      <td>22.0</td>\n",
       "      <td>1</td>\n",
       "      <td>1</td>\n",
       "      <td>3101298</td>\n",
       "      <td>12.2875</td>\n",
       "      <td>NaN</td>\n",
       "      <td>S</td>\n",
       "    </tr>\n",
       "  </tbody>\n",
       "</table>\n",
       "</div>"
      ],
      "text/plain": [
       "   PassengerId  Pclass                                          Name     Sex  \\\n",
       "0          892       3                              Kelly, Mr. James    male   \n",
       "1          893       3              Wilkes, Mrs. James (Ellen Needs)  female   \n",
       "2          894       2                     Myles, Mr. Thomas Francis    male   \n",
       "3          895       3                              Wirz, Mr. Albert    male   \n",
       "4          896       3  Hirvonen, Mrs. Alexander (Helga E Lindqvist)  female   \n",
       "\n",
       "    Age  SibSp  Parch   Ticket     Fare Cabin Embarked  \n",
       "0  34.5      0      0   330911   7.8292   NaN        Q  \n",
       "1  47.0      1      0   363272   7.0000   NaN        S  \n",
       "2  62.0      0      0   240276   9.6875   NaN        Q  \n",
       "3  27.0      0      0   315154   8.6625   NaN        S  \n",
       "4  22.0      1      1  3101298  12.2875   NaN        S  "
      ]
     },
     "execution_count": 5,
     "metadata": {},
     "output_type": "execute_result"
    }
   ],
   "source": [
    "test.head()                        # no porta la variable objectiu que és Survived"
   ]
  },
  {
   "cell_type": "code",
   "execution_count": 6,
   "id": "63e94ca1",
   "metadata": {},
   "outputs": [
    {
     "data": {
      "text/plain": [
       "PassengerId      0\n",
       "Survived         0\n",
       "Pclass           0\n",
       "Name             0\n",
       "Sex              0\n",
       "Age            177\n",
       "SibSp            0\n",
       "Parch            0\n",
       "Ticket           0\n",
       "Fare             0\n",
       "Cabin          687\n",
       "Embarked         2\n",
       "dtype: int64"
      ]
     },
     "execution_count": 6,
     "metadata": {},
     "output_type": "execute_result"
    }
   ],
   "source": [
    "# Dades faltants\n",
    "train.isna().sum()\n",
    "\n",
    "# Veiem que hi ha 3 variables que presenten valors faltants (Age, Cabin i Embarked)"
   ]
  },
  {
   "cell_type": "code",
   "execution_count": 7,
   "id": "d4994390",
   "metadata": {},
   "outputs": [
    {
     "data": {
      "text/plain": [
       "PassengerId      0\n",
       "Survived         0\n",
       "Pclass           0\n",
       "Name             0\n",
       "Sex              0\n",
       "Age            177\n",
       "SibSp            0\n",
       "Parch            0\n",
       "Ticket           0\n",
       "Fare             0\n",
       "Cabin          687\n",
       "Embarked         2\n",
       "dtype: int64"
      ]
     },
     "execution_count": 7,
     "metadata": {},
     "output_type": "execute_result"
    }
   ],
   "source": [
    "# També podríem treure aquesta informació fent...\n",
    "dades_faltants = train.apply(lambda x: x.isna().sum())\n",
    "dades_faltants\n",
    "\n",
    "# Aquesta darrera expressió en R és equivalent a fer ús de\n",
    "# sapply(train, function(x) sum(is.na(x)))"
   ]
  },
  {
   "cell_type": "code",
   "execution_count": 8,
   "id": "336685eb",
   "metadata": {},
   "outputs": [
    {
     "name": "stdout",
     "output_type": "stream",
     "text": [
      "<class 'pandas.core.frame.DataFrame'>\n",
      "RangeIndex: 891 entries, 0 to 890\n",
      "Data columns (total 12 columns):\n",
      " #   Column       Non-Null Count  Dtype  \n",
      "---  ------       --------------  -----  \n",
      " 0   PassengerId  891 non-null    int64  \n",
      " 1   Survived     891 non-null    int64  \n",
      " 2   Pclass       891 non-null    int64  \n",
      " 3   Name         891 non-null    object \n",
      " 4   Sex          891 non-null    object \n",
      " 5   Age          714 non-null    float64\n",
      " 6   SibSp        891 non-null    int64  \n",
      " 7   Parch        891 non-null    int64  \n",
      " 8   Ticket       891 non-null    object \n",
      " 9   Fare         891 non-null    float64\n",
      " 10  Cabin        204 non-null    object \n",
      " 11  Embarked     889 non-null    object \n",
      "dtypes: float64(2), int64(5), object(5)\n",
      "memory usage: 83.7+ KB\n"
     ]
    }
   ],
   "source": [
    "# Informació del nº de valors no nuls i tipus de variables\n",
    "train.info()"
   ]
  },
  {
   "cell_type": "code",
   "execution_count": 9,
   "id": "02d32c29",
   "metadata": {},
   "outputs": [
    {
     "data": {
      "text/html": [
       "<div>\n",
       "<style scoped>\n",
       "    .dataframe tbody tr th:only-of-type {\n",
       "        vertical-align: middle;\n",
       "    }\n",
       "\n",
       "    .dataframe tbody tr th {\n",
       "        vertical-align: top;\n",
       "    }\n",
       "\n",
       "    .dataframe thead th {\n",
       "        text-align: right;\n",
       "    }\n",
       "</style>\n",
       "<table border=\"1\" class=\"dataframe\">\n",
       "  <thead>\n",
       "    <tr style=\"text-align: right;\">\n",
       "      <th></th>\n",
       "      <th>PassengerId</th>\n",
       "      <th>Survived</th>\n",
       "      <th>Pclass</th>\n",
       "      <th>Name</th>\n",
       "      <th>Sex</th>\n",
       "      <th>Age</th>\n",
       "      <th>SibSp</th>\n",
       "      <th>Parch</th>\n",
       "      <th>Ticket</th>\n",
       "      <th>Fare</th>\n",
       "      <th>Cabin</th>\n",
       "      <th>Embarked</th>\n",
       "    </tr>\n",
       "  </thead>\n",
       "  <tbody>\n",
       "    <tr>\n",
       "      <th>0</th>\n",
       "      <td>int</td>\n",
       "      <td>int</td>\n",
       "      <td>int</td>\n",
       "      <td>str</td>\n",
       "      <td>str</td>\n",
       "      <td>float</td>\n",
       "      <td>int</td>\n",
       "      <td>int</td>\n",
       "      <td>str</td>\n",
       "      <td>float</td>\n",
       "      <td>float</td>\n",
       "      <td>str</td>\n",
       "    </tr>\n",
       "    <tr>\n",
       "      <th>1</th>\n",
       "      <td>int</td>\n",
       "      <td>int</td>\n",
       "      <td>int</td>\n",
       "      <td>str</td>\n",
       "      <td>str</td>\n",
       "      <td>float</td>\n",
       "      <td>int</td>\n",
       "      <td>int</td>\n",
       "      <td>str</td>\n",
       "      <td>float</td>\n",
       "      <td>str</td>\n",
       "      <td>str</td>\n",
       "    </tr>\n",
       "    <tr>\n",
       "      <th>2</th>\n",
       "      <td>int</td>\n",
       "      <td>int</td>\n",
       "      <td>int</td>\n",
       "      <td>str</td>\n",
       "      <td>str</td>\n",
       "      <td>float</td>\n",
       "      <td>int</td>\n",
       "      <td>int</td>\n",
       "      <td>str</td>\n",
       "      <td>float</td>\n",
       "      <td>float</td>\n",
       "      <td>str</td>\n",
       "    </tr>\n",
       "    <tr>\n",
       "      <th>3</th>\n",
       "      <td>int</td>\n",
       "      <td>int</td>\n",
       "      <td>int</td>\n",
       "      <td>str</td>\n",
       "      <td>str</td>\n",
       "      <td>float</td>\n",
       "      <td>int</td>\n",
       "      <td>int</td>\n",
       "      <td>str</td>\n",
       "      <td>float</td>\n",
       "      <td>str</td>\n",
       "      <td>str</td>\n",
       "    </tr>\n",
       "    <tr>\n",
       "      <th>4</th>\n",
       "      <td>int</td>\n",
       "      <td>int</td>\n",
       "      <td>int</td>\n",
       "      <td>str</td>\n",
       "      <td>str</td>\n",
       "      <td>float</td>\n",
       "      <td>int</td>\n",
       "      <td>int</td>\n",
       "      <td>str</td>\n",
       "      <td>float</td>\n",
       "      <td>float</td>\n",
       "      <td>str</td>\n",
       "    </tr>\n",
       "    <tr>\n",
       "      <th>...</th>\n",
       "      <td>...</td>\n",
       "      <td>...</td>\n",
       "      <td>...</td>\n",
       "      <td>...</td>\n",
       "      <td>...</td>\n",
       "      <td>...</td>\n",
       "      <td>...</td>\n",
       "      <td>...</td>\n",
       "      <td>...</td>\n",
       "      <td>...</td>\n",
       "      <td>...</td>\n",
       "      <td>...</td>\n",
       "    </tr>\n",
       "    <tr>\n",
       "      <th>886</th>\n",
       "      <td>int</td>\n",
       "      <td>int</td>\n",
       "      <td>int</td>\n",
       "      <td>str</td>\n",
       "      <td>str</td>\n",
       "      <td>float</td>\n",
       "      <td>int</td>\n",
       "      <td>int</td>\n",
       "      <td>str</td>\n",
       "      <td>float</td>\n",
       "      <td>float</td>\n",
       "      <td>str</td>\n",
       "    </tr>\n",
       "    <tr>\n",
       "      <th>887</th>\n",
       "      <td>int</td>\n",
       "      <td>int</td>\n",
       "      <td>int</td>\n",
       "      <td>str</td>\n",
       "      <td>str</td>\n",
       "      <td>float</td>\n",
       "      <td>int</td>\n",
       "      <td>int</td>\n",
       "      <td>str</td>\n",
       "      <td>float</td>\n",
       "      <td>str</td>\n",
       "      <td>str</td>\n",
       "    </tr>\n",
       "    <tr>\n",
       "      <th>888</th>\n",
       "      <td>int</td>\n",
       "      <td>int</td>\n",
       "      <td>int</td>\n",
       "      <td>str</td>\n",
       "      <td>str</td>\n",
       "      <td>float</td>\n",
       "      <td>int</td>\n",
       "      <td>int</td>\n",
       "      <td>str</td>\n",
       "      <td>float</td>\n",
       "      <td>float</td>\n",
       "      <td>str</td>\n",
       "    </tr>\n",
       "    <tr>\n",
       "      <th>889</th>\n",
       "      <td>int</td>\n",
       "      <td>int</td>\n",
       "      <td>int</td>\n",
       "      <td>str</td>\n",
       "      <td>str</td>\n",
       "      <td>float</td>\n",
       "      <td>int</td>\n",
       "      <td>int</td>\n",
       "      <td>str</td>\n",
       "      <td>float</td>\n",
       "      <td>str</td>\n",
       "      <td>str</td>\n",
       "    </tr>\n",
       "    <tr>\n",
       "      <th>890</th>\n",
       "      <td>int</td>\n",
       "      <td>int</td>\n",
       "      <td>int</td>\n",
       "      <td>str</td>\n",
       "      <td>str</td>\n",
       "      <td>float</td>\n",
       "      <td>int</td>\n",
       "      <td>int</td>\n",
       "      <td>str</td>\n",
       "      <td>float</td>\n",
       "      <td>float</td>\n",
       "      <td>str</td>\n",
       "    </tr>\n",
       "  </tbody>\n",
       "</table>\n",
       "<p>891 rows × 12 columns</p>\n",
       "</div>"
      ],
      "text/plain": [
       "    PassengerId Survived Pclass Name  Sex    Age SibSp Parch Ticket   Fare  \\\n",
       "0           int      int    int  str  str  float   int   int    str  float   \n",
       "1           int      int    int  str  str  float   int   int    str  float   \n",
       "2           int      int    int  str  str  float   int   int    str  float   \n",
       "3           int      int    int  str  str  float   int   int    str  float   \n",
       "4           int      int    int  str  str  float   int   int    str  float   \n",
       "..          ...      ...    ...  ...  ...    ...   ...   ...    ...    ...   \n",
       "886         int      int    int  str  str  float   int   int    str  float   \n",
       "887         int      int    int  str  str  float   int   int    str  float   \n",
       "888         int      int    int  str  str  float   int   int    str  float   \n",
       "889         int      int    int  str  str  float   int   int    str  float   \n",
       "890         int      int    int  str  str  float   int   int    str  float   \n",
       "\n",
       "     Cabin Embarked  \n",
       "0    float      str  \n",
       "1      str      str  \n",
       "2    float      str  \n",
       "3      str      str  \n",
       "4    float      str  \n",
       "..     ...      ...  \n",
       "886  float      str  \n",
       "887    str      str  \n",
       "888  float      str  \n",
       "889    str      str  \n",
       "890  float      str  \n",
       "\n",
       "[891 rows x 12 columns]"
      ]
     },
     "execution_count": 9,
     "metadata": {},
     "output_type": "execute_result"
    }
   ],
   "source": [
    "result = train.applymap(lambda x: type(x).__name__)\n",
    "result"
   ]
  },
  {
   "cell_type": "code",
   "execution_count": 10,
   "id": "a13ae466",
   "metadata": {},
   "outputs": [],
   "source": [
    "# Aquesta darrera expressió en R seria equivalent a fer ús de\n",
    "# sapply(train, function(x) class(x))"
   ]
  },
  {
   "cell_type": "code",
   "execution_count": 11,
   "id": "c4ccee40",
   "metadata": {},
   "outputs": [],
   "source": [
    "# Valors extrems o outliers. Això ho hauriem de fer per cada variable. Ho faré només pels les numèriques\n",
    "# Pclass, Age, SibSp, Parch i Fare i comprovem que només hi ha outliers per la variable 'Fare'"
   ]
  },
  {
   "cell_type": "code",
   "execution_count": 12,
   "id": "9d3aebd8",
   "metadata": {},
   "outputs": [
    {
     "name": "stdout",
     "output_type": "stream",
     "text": [
      "Nombre de valors atípics per a Pclass: Series([], Name: Pclass, dtype: int64)\n",
      "valors atípics per a Pclass: []\n",
      "\n",
      "longitud: Series([], Name: Pclass, dtype: int64)\n",
      "Pclass_outliers\n",
      "Series([], Name: Pclass, dtype: int64)\n"
     ]
    }
   ],
   "source": [
    "# Analitzem els valor extrems per la variable 'Pclass'\n",
    "import numpy as np\n",
    "import scipy.stats as stats\n",
    "\n",
    "# 'Pclass_base' serà la columna d'interès\n",
    "Pclass_base = train['Pclass']\n",
    "\n",
    "# Calcular els valors atípics\n",
    "q1 = np.percentile(Pclass_base.dropna(), 25)\n",
    "q3 = np.percentile(Pclass_base.dropna(), 75)\n",
    "iqr = q3 - q1\n",
    "lower_bound = q1 - 1.5 * iqr\n",
    "upper_bound = q3 + 1.5 * iqr\n",
    "outliers_Pclass = train['Pclass'][(train['Pclass'] < lower_bound) | (train['Pclass'] > upper_bound)]\n",
    "\n",
    "# Comptar el nombre de valors atípics\n",
    "num_outliers = len(outliers_Pclass)\n",
    "print(\"Nombre de valors atípics per a Pclass:\", outliers_Pclass)\n",
    "  \n",
    "# =====================================================\n",
    "print(\"valors atípics per a Pclass:\", outliers_Pclass.values)\n",
    "print()\n",
    "print(\"longitud:\",outliers_Pclass)  \n",
    "# =====================================================   \n",
    "      \n",
    "# Mostrem els outliers\n",
    "print(\"Pclass_outliers\")\n",
    "print(outliers_Pclass)"
   ]
  },
  {
   "cell_type": "code",
   "execution_count": 13,
   "id": "510bd245",
   "metadata": {},
   "outputs": [
    {
     "name": "stdout",
     "output_type": "stream",
     "text": [
      "Valors atípics per a 'Pclass': []\n",
      "longitud 0\n"
     ]
    }
   ],
   "source": [
    "# Obtenir els valors atípics (outliers)\n",
    "\n",
    "# Calcular els valors atípics per a la columna 'Pclass'\n",
    "q1 = np.percentile(train['Pclass'].dropna(), 25)\n",
    "q3 = np.percentile(train['Pclass'].dropna(), 75)\n",
    "iqr = q3 - q1\n",
    "lower_bound = q1 - 1.5 * iqr\n",
    "upper_bound = q3 + 1.5 * iqr\n",
    "outliers_Pclass = train['Pclass'][(train['Pclass'] < lower_bound) | (train['Pclass'] > upper_bound)]\n",
    "\n",
    "print(\"Valors atípics per a 'Pclass':\", outliers_Pclass.values)\n",
    "print(\"longitud\",len(outliers_Pclass))"
   ]
  },
  {
   "cell_type": "code",
   "execution_count": 14,
   "id": "28d6d340",
   "metadata": {},
   "outputs": [
    {
     "name": "stdout",
     "output_type": "stream",
     "text": [
      "Nombre de valors atípics per a Age: 33     66.0\n",
      "54     65.0\n",
      "96     71.0\n",
      "116    70.5\n",
      "280    65.0\n",
      "456    65.0\n",
      "493    71.0\n",
      "630    80.0\n",
      "672    70.0\n",
      "745    70.0\n",
      "851    74.0\n",
      "Name: Age, dtype: float64\n",
      "valors atípics per a Age: [66.  65.  71.  70.5 65.  65.  71.  80.  70.  70.  74. ]\n",
      "\n",
      "longitud: 33     66.0\n",
      "54     65.0\n",
      "96     71.0\n",
      "116    70.5\n",
      "280    65.0\n",
      "456    65.0\n",
      "493    71.0\n",
      "630    80.0\n",
      "672    70.0\n",
      "745    70.0\n",
      "851    74.0\n",
      "Name: Age, dtype: float64\n",
      "Age_outliers\n",
      "33     66.0\n",
      "54     65.0\n",
      "96     71.0\n",
      "116    70.5\n",
      "280    65.0\n",
      "456    65.0\n",
      "493    71.0\n",
      "630    80.0\n",
      "672    70.0\n",
      "745    70.0\n",
      "851    74.0\n",
      "Name: Age, dtype: float64\n"
     ]
    }
   ],
   "source": [
    "# Analitzem els valor extrems per la variable 'Age'\n",
    "import numpy as np\n",
    "import scipy.stats as stats\n",
    "\n",
    "# 'Age_base' serà la columna d'interès\n",
    "Age_base = train['Age']\n",
    "\n",
    "# Calcular els valors atípics\n",
    "q1 = np.percentile(Age_base.dropna(), 25)\n",
    "q3 = np.percentile(Age_base.dropna(), 75)\n",
    "iqr = q3 - q1\n",
    "lower_bound = q1 - 1.5 * iqr\n",
    "upper_bound = q3 + 1.5 * iqr\n",
    "outliers_Age = train['Age'][(train['Age'] < lower_bound) | (train['Age'] > upper_bound)]\n",
    "\n",
    "# Comptar el nombre de valors atípics\n",
    "num_outliers = len(outliers_Age)\n",
    "print(\"Nombre de valors atípics per a Age:\", outliers_Age)\n",
    "\n",
    "# =====================================================\n",
    "print(\"valors atípics per a Age:\", outliers_Age.values)\n",
    "print()\n",
    "print(\"longitud:\",outliers_Age)  \n",
    "# =====================================================   \n",
    "      \n",
    "# Mostrem els outliers\n",
    "print(\"Age_outliers\")\n",
    "print(outliers_Age)"
   ]
  },
  {
   "cell_type": "code",
   "execution_count": 15,
   "id": "9fdd532c",
   "metadata": {},
   "outputs": [
    {
     "name": "stdout",
     "output_type": "stream",
     "text": [
      "Valors atípics per a 'Age': [66.  65.  71.  70.5 65.  65.  71.  80.  70.  70.  74. ]\n",
      "longitud 11\n"
     ]
    }
   ],
   "source": [
    "# Obtenir els valors atípics (outliers)\n",
    "\n",
    "# Calcular els valors atípics per a la columna 'Age'\n",
    "q1 = np.percentile(train['Age'].dropna(), 25)\n",
    "q3 = np.percentile(train['Age'].dropna(), 75)\n",
    "iqr = q3 - q1\n",
    "lower_bound = q1 - 1.5 * iqr\n",
    "upper_bound = q3 + 1.5 * iqr\n",
    "outliers_Age = train['Age'][(train['Age'] < lower_bound) | (train['Age'] > upper_bound)]\n",
    "\n",
    "print(\"Valors atípics per a 'Age':\", outliers_Age.values)\n",
    "print(\"longitud\",len(outliers_Age))"
   ]
  },
  {
   "cell_type": "code",
   "execution_count": 16,
   "id": "d4f0c9a6",
   "metadata": {},
   "outputs": [
    {
     "name": "stdout",
     "output_type": "stream",
     "text": [
      "Nombre de valors atípics per a SibSp: 46\n",
      "SibSp_outliers\n",
      "7      3\n",
      "16     4\n",
      "24     3\n",
      "27     3\n",
      "50     4\n",
      "59     5\n",
      "63     3\n",
      "68     4\n",
      "71     5\n",
      "85     3\n",
      "88     3\n",
      "119    4\n",
      "159    8\n",
      "164    4\n",
      "171    4\n",
      "176    3\n",
      "180    8\n",
      "182    4\n",
      "201    8\n",
      "229    3\n",
      "233    4\n",
      "261    4\n",
      "266    4\n",
      "278    4\n",
      "324    8\n",
      "341    3\n",
      "374    3\n",
      "386    5\n",
      "409    3\n",
      "480    5\n",
      "485    3\n",
      "541    4\n",
      "542    4\n",
      "634    3\n",
      "642    3\n",
      "683    5\n",
      "686    4\n",
      "726    3\n",
      "787    4\n",
      "792    8\n",
      "813    4\n",
      "819    3\n",
      "824    4\n",
      "846    8\n",
      "850    4\n",
      "863    8\n",
      "Name: SibSp, dtype: int64\n"
     ]
    }
   ],
   "source": [
    "# Analitzem els valor extrems per la variable 'SibSp'\n",
    "import numpy as np\n",
    "import scipy.stats as stats\n",
    "\n",
    "# 'SibSp_base' serà la columna d'interès\n",
    "SibSp_base = train['SibSp']\n",
    "\n",
    "# Calcular els valors atípics\n",
    "q1 = np.percentile(SibSp_base, 25)\n",
    "q3 = np.percentile(SibSp_base, 75)\n",
    "iqr = q3 - q1\n",
    "lower_bound = q1 - 1.5 * iqr\n",
    "upper_bound = q3 + 1.5 * iqr\n",
    "outliers = SibSp_base[(SibSp_base < lower_bound) | (SibSp_base > upper_bound)]\n",
    "\n",
    "# Comptar el nombre de valors atípics\n",
    "num_outliers = len(outliers)\n",
    "print(\"Nombre de valors atípics per a SibSp:\", num_outliers)\n",
    "\n",
    "# Mostrem els outliers\n",
    "print(\"SibSp_outliers\")\n",
    "print(outliers)"
   ]
  },
  {
   "cell_type": "code",
   "execution_count": 17,
   "id": "bbd5f176",
   "metadata": {},
   "outputs": [
    {
     "name": "stdout",
     "output_type": "stream",
     "text": [
      "Valors atípics per a 'SibSp': [3 4 3 3 4 5 3 4 5 3 3 4 8 4 4 3 8 4 8 3 4 4 4 4 8 3 3 5 3 5 3 4 4 3 3 5 4\n",
      " 3 4 8 4 3 4 8 4 8]\n"
     ]
    }
   ],
   "source": [
    "# Obtenir els valors atípics (outliers)\n",
    "\n",
    "# Calcular els valors atípics per a la columna 'SibSp'\n",
    "q1 = np.percentile(train['SibSp'].dropna(), 25)\n",
    "q3 = np.percentile(train['SibSp'].dropna(), 75)\n",
    "iqr = q3 - q1\n",
    "lower_bound = q1 - 1.5 * iqr\n",
    "upper_bound = q3 + 1.5 * iqr\n",
    "outliers_SibSp = train['SibSp'][(train['SibSp'] < lower_bound) | (train['SibSp'] > upper_bound)]\n",
    "\n",
    "print(\"Valors atípics per a 'SibSp':\", outliers_SibSp.values)"
   ]
  },
  {
   "cell_type": "code",
   "execution_count": 18,
   "id": "c560daa9",
   "metadata": {},
   "outputs": [
    {
     "name": "stdout",
     "output_type": "stream",
     "text": [
      "Nombre de valors atípics per a Parch: 213\n",
      "Parch_outliers\n",
      "7      1\n",
      "8      2\n",
      "10     1\n",
      "13     5\n",
      "16     1\n",
      "      ..\n",
      "871    1\n",
      "879    1\n",
      "880    1\n",
      "885    5\n",
      "888    2\n",
      "Name: Parch, Length: 213, dtype: int64\n"
     ]
    }
   ],
   "source": [
    "# Analitzem els valor extrems per la variable 'Parch'\n",
    "import numpy as np\n",
    "import scipy.stats as stats\n",
    "\n",
    "# 'Parch_base' serà la columna d'interès\n",
    "Parch_base = train['Parch']\n",
    "\n",
    "# Calcular els valors atípics\n",
    "q1 = np.percentile(Parch_base, 25)\n",
    "q3 = np.percentile(Parch_base, 75)\n",
    "iqr = q3 - q1\n",
    "lower_bound = q1 - 1.5 * iqr\n",
    "upper_bound = q3 + 1.5 * iqr\n",
    "outliers = Parch_base[(Parch_base < lower_bound) | (Parch_base > upper_bound)]\n",
    "\n",
    "# Comptar el nombre de valors atípics\n",
    "num_outliers = len(outliers)\n",
    "print(\"Nombre de valors atípics per a Parch:\", num_outliers)\n",
    "\n",
    "# Mostrem els outliers\n",
    "print(\"Parch_outliers\")\n",
    "print(outliers)"
   ]
  },
  {
   "cell_type": "code",
   "execution_count": 19,
   "id": "3393e3dd",
   "metadata": {},
   "outputs": [
    {
     "name": "stdout",
     "output_type": "stream",
     "text": [
      "Valors atípics per a 'Parch': [1 2 1 5 1 1 5 2 2 1 1 2 2 2 1 2 2 2 3 2 2 1 1 1 1 2 1 1 2 2 1 2 2 2 1 2 1\n",
      " 1 2 1 4 1 1 1 1 2 2 1 2 1 1 1 2 1 1 2 2 2 1 1 2 2 1 2 1 1 1 1 1 1 1 2 1 2\n",
      " 2 1 1 2 1 1 2 1 1 1 1 2 1 1 1 4 1 1 2 2 2 2 2 1 1 1 2 2 1 1 2 2 3 4 1 2 1\n",
      " 1 2 1 2 1 2 1 1 2 2 1 1 1 1 2 2 2 2 2 2 1 1 2 1 4 1 1 2 1 2 1 1 2 5 2 1 1\n",
      " 1 2 1 5 2 1 1 1 2 1 6 1 2 1 2 1 1 1 1 1 1 1 3 2 1 1 1 1 2 1 2 3 1 2 1 2 2\n",
      " 1 1 2 1 2 1 2 1 1 1 2 1 1 2 1 2 1 1 1 1 3 2 1 1 1 1 5 2]\n"
     ]
    }
   ],
   "source": [
    "# Obtenir els valors atípics (outliers)\n",
    "\n",
    "# Calcular els valors atípics per a la columna 'Parch'\n",
    "q1 = np.percentile(train['Parch'].dropna(), 25)\n",
    "q3 = np.percentile(train['Parch'].dropna(), 75)\n",
    "iqr = q3 - q1\n",
    "lower_bound = q1 - 1.5 * iqr\n",
    "upper_bound = q3 + 1.5 * iqr\n",
    "outliers_Parch = train['Parch'][(train['Parch'] < lower_bound) | (train['Parch'] > upper_bound)]\n",
    "\n",
    "print(\"Valors atípics per a 'Parch':\", outliers_Parch.values)"
   ]
  },
  {
   "cell_type": "code",
   "execution_count": 20,
   "id": "19cae409",
   "metadata": {},
   "outputs": [
    {
     "name": "stdout",
     "output_type": "stream",
     "text": [
      "Nombre de valors atípics per a Fare: 116\n",
      "Fare_outliers\n",
      "1       71.2833\n",
      "27     263.0000\n",
      "31     146.5208\n",
      "34      82.1708\n",
      "52      76.7292\n",
      "         ...   \n",
      "846     69.5500\n",
      "849     89.1042\n",
      "856    164.8667\n",
      "863     69.5500\n",
      "879     83.1583\n",
      "Name: Fare, Length: 116, dtype: float64\n"
     ]
    }
   ],
   "source": [
    "# Analitzem els valor extrems per la variable 'Fare'\n",
    "import numpy as np\n",
    "import scipy.stats as stats\n",
    "\n",
    "# 'fare_base' serà la columna d'interès\n",
    "fare_base = train['Fare']\n",
    "\n",
    "# Calcular els valors atípics\n",
    "q1 = np.percentile(fare_base, 25)\n",
    "q3 = np.percentile(fare_base, 75)\n",
    "iqr = q3 - q1\n",
    "lower_bound = q1 - 1.5 * iqr\n",
    "upper_bound = q3 + 1.5 * iqr\n",
    "outliers = fare_base[(fare_base < lower_bound) | (fare_base > upper_bound)]\n",
    "\n",
    "# Comptar el nombre de valors atípics\n",
    "num_outliers = len(outliers)\n",
    "print(\"Nombre de valors atípics per a Fare:\", num_outliers)\n",
    "\n",
    "# Mostrem els outliers\n",
    "print(\"Fare_outliers\")\n",
    "print(outliers)"
   ]
  },
  {
   "cell_type": "code",
   "execution_count": 21,
   "id": "35765988",
   "metadata": {},
   "outputs": [
    {
     "name": "stdout",
     "output_type": "stream",
     "text": [
      "Valors atípics per a 'Fare': [ 71.2833 263.     146.5208  82.1708  76.7292  80.      83.475   73.5\n",
      " 263.      77.2875 247.5208  73.5     77.2875  79.2     66.6     69.55\n",
      "  69.55   146.5208  69.55   113.275   76.2917  90.      83.475   90.\n",
      "  79.2     86.5    512.3292  79.65   153.4625 135.6333  77.9583  78.85\n",
      "  91.0792 151.55   247.5208 151.55   110.8833 108.9     83.1583 262.375\n",
      " 164.8667 134.5     69.55   135.6333 153.4625 133.65    66.6    134.5\n",
      " 263.      75.25    69.3    135.6333  82.1708 211.5    227.525   73.5\n",
      " 120.     113.275   90.     120.     263.      81.8583  89.1042  91.0792\n",
      "  90.      78.2667 151.55    86.5    108.9     93.5    221.7792 106.425\n",
      "  71.     106.425  110.8833 227.525   79.65   110.8833  79.65    79.2\n",
      "  78.2667 153.4625  77.9583  69.3     76.7292  73.5    113.275  133.65\n",
      "  73.5    512.3292  76.7292 211.3375 110.8833 227.525  151.55   227.525\n",
      " 211.3375 512.3292  78.85   262.375   71.      86.5    120.      77.9583\n",
      " 211.3375  79.2     69.55   120.      93.5     80.      83.1583  69.55\n",
      "  89.1042 164.8667  69.55    83.1583]\n"
     ]
    }
   ],
   "source": [
    "# Obtenir els valors atípics (outliers)\n",
    "\n",
    "# Calcular els valors atípics per a la columna 'Fare'\n",
    "q1 = np.percentile(train['Fare'].dropna(), 25)\n",
    "q3 = np.percentile(train['Fare'].dropna(), 75)\n",
    "iqr = q3 - q1\n",
    "lower_bound = q1 - 1.5 * iqr\n",
    "upper_bound = q3 + 1.5 * iqr\n",
    "outliers_Fare = train['Fare'][(train['Fare'] < lower_bound) | (train['Fare'] > upper_bound)]\n",
    "\n",
    "print(\"Valors atípics per a 'Fare':\", outliers_Fare.values)"
   ]
  },
  {
   "cell_type": "code",
   "execution_count": 22,
   "id": "c0aee884",
   "metadata": {},
   "outputs": [],
   "source": [
    "# Identificació de valors llindae per a la variable 'Age'"
   ]
  },
  {
   "cell_type": "code",
   "execution_count": 23,
   "id": "7025ea8a",
   "metadata": {},
   "outputs": [
    {
     "name": "stdout",
     "output_type": "stream",
     "text": [
      "73.27860964406095\n"
     ]
    }
   ],
   "source": [
    "# Valor llindar de la variable 'Age'\n",
    "mean_age = train['Age'].mean(skipna=True)\n",
    "std_age = train['Age'].std(skipna=True)\n",
    "\n",
    "# Calcular el llindar\n",
    "age_threshold = mean_age + 3 * std_age\n",
    "\n",
    "print(age_threshold)"
   ]
  },
  {
   "cell_type": "code",
   "execution_count": 24,
   "id": "cd09b221",
   "metadata": {},
   "outputs": [
    {
     "name": "stdout",
     "output_type": "stream",
     "text": [
      "181.28449376011736\n"
     ]
    }
   ],
   "source": [
    "# Valor llindar de la variable 'Fare'\n",
    "mean_fare = train['Fare'].mean(skipna=True)\n",
    "std_fare = train['Fare'].std(skipna=True)\n",
    "\n",
    "# Calcular el llindar\n",
    "fare_threshold = mean_fare + 3 * std_fare\n",
    "\n",
    "print(fare_threshold)"
   ]
  },
  {
   "cell_type": "code",
   "execution_count": 25,
   "id": "bc409d1d",
   "metadata": {},
   "outputs": [
    {
     "name": "stdout",
     "output_type": "stream",
     "text": [
      "Suma de totes les edats: 21205.17\n",
      "Mitjana de l'edat: 29.7\n",
      "Nombre de valors per damunt del llindar: 2\n",
      "Nombre de valors per damunt del llindar (ignorant NA): 2\n"
     ]
    }
   ],
   "source": [
    "# Comprovació de punts per damunt del llindar per la variable 'Age'\n",
    "# 'age_threshold' és el llindar calculat anteriorment\n",
    "age_threshold = mean_age + 3 * std_age\n",
    "\n",
    "# Suma de totes les edats, ignorant els valors NA\n",
    "total_age = train['Age'].sum(skipna=True)\n",
    "print('Suma de totes les edats:', total_age)\n",
    "\n",
    "# Mitjana d'edat\n",
    "mean_age = np.mean(train['Age'])\n",
    "mean_age_rounded = round(mean_age, 2)\n",
    "print('Mitjana de l\\'edat:', mean_age_rounded)\n",
    "\n",
    "# Comptar el nombre de valors per damunt del llindar, ignorant els valors NA\n",
    "count_above_threshold = (train['Age'] > age_threshold).sum()\n",
    "\n",
    "# Comptar el nombre de valors per damunt del llindar, ignorant els valors NA\n",
    "count_above_threshold_no_na = (train['Age'] > age_threshold).sum(skipna=True)\n",
    "\n",
    "print('Nombre de valors per damunt del llindar:', count_above_threshold)\n",
    "print('Nombre de valors per damunt del llindar (ignorant NA):', count_above_threshold_no_na)"
   ]
  },
  {
   "cell_type": "code",
   "execution_count": 26,
   "id": "2287bf9a",
   "metadata": {
    "scrolled": true
   },
   "outputs": [
    {
     "data": {
      "image/png": "[encoded data removed]",
      "text/plain": [
       "<Figure size 640x480 with 1 Axes>"
      ]
     },
     "metadata": {},
     "output_type": "display_data"
    }
   ],
   "source": [
    "# Crear l'histograma per la variable 'Age'\n",
    "plt.hist(train['Age'].dropna(), bins=30, edgecolor='blue', color='white')\n",
    "plt.title('Histogram for Age')\n",
    "plt.xlabel('Age')\n",
    "plt.ylabel('Frequency')\n",
    "plt.show()"
   ]
  },
  {
   "cell_type": "code",
   "execution_count": 27,
   "id": "4cba3e59",
   "metadata": {},
   "outputs": [
    {
     "data": {
      "image/png": "[encoded data removed]",
      "text/plain": [
       "<Figure size 640x480 with 1 Axes>"
      ]
     },
     "metadata": {},
     "output_type": "display_data"
    }
   ],
   "source": [
    "# Crear l'histograma per la variable 'Fare'\n",
    "plt.hist(train['Fare'].dropna(), bins=30, edgecolor='blue', color='white')\n",
    "plt.title('Histogram for Fare')\n",
    "plt.xlabel('Fare')\n",
    "plt.ylabel('Frequency')\n",
    "plt.show()"
   ]
  },
  {
   "cell_type": "code",
   "execution_count": 28,
   "id": "e2b0b15f",
   "metadata": {},
   "outputs": [
    {
     "name": "stdout",
     "output_type": "stream",
     "text": [
      "Valors atípics per a 'Age': [66.  65.  71.  70.5 65.  65.  71.  80.  70.  70.  74. ]\n"
     ]
    }
   ],
   "source": [
    "# Obtenir els valors atípics (outliers)\n",
    "\n",
    "# Calcular els valors atípics per a la columna 'Age'\n",
    "q1 = np.percentile(train['Age'].dropna(), 25)\n",
    "q3 = np.percentile(train['Age'].dropna(), 75)\n",
    "iqr = q3 - q1\n",
    "lower_bound = q1 - 1.5 * iqr\n",
    "upper_bound = q3 + 1.5 * iqr\n",
    "outliers_age = train['Age'][(train['Age'] < lower_bound) | (train['Age'] > upper_bound)]\n",
    "\n",
    "print(\"Valors atípics per a 'Age':\", outliers_age.values)"
   ]
  },
  {
   "cell_type": "code",
   "execution_count": 29,
   "id": "00409cd4",
   "metadata": {},
   "outputs": [
    {
     "data": {
      "image/png": "[encoded data removed]",
      "text/plain": [
       "<Figure size 640x480 with 1 Axes>"
      ]
     },
     "metadata": {},
     "output_type": "display_data"
    }
   ],
   "source": [
    "# Crear un boxplot horitzontal per a la columna 'Age'\n",
    "sns.boxplot(x=train['Age'], orient='h')\n",
    "plt.title('Boxplot for Age')\n",
    "plt.show()"
   ]
  },
  {
   "cell_type": "code",
   "execution_count": 30,
   "id": "e5171357",
   "metadata": {},
   "outputs": [
    {
     "name": "stdout",
     "output_type": "stream",
     "text": [
      "Valors atípics per a fare: [ 71.2833 263.     146.5208  82.1708  76.7292  80.      83.475   73.5\n",
      " 263.      77.2875 247.5208  73.5     77.2875  79.2     66.6     69.55\n",
      "  69.55   146.5208  69.55   113.275   76.2917  90.      83.475   90.\n",
      "  79.2     86.5    512.3292  79.65   153.4625 135.6333  77.9583  78.85\n",
      "  91.0792 151.55   247.5208 151.55   110.8833 108.9     83.1583 262.375\n",
      " 164.8667 134.5     69.55   135.6333 153.4625 133.65    66.6    134.5\n",
      " 263.      75.25    69.3    135.6333  82.1708 211.5    227.525   73.5\n",
      " 120.     113.275   90.     120.     263.      81.8583  89.1042  91.0792\n",
      "  90.      78.2667 151.55    86.5    108.9     93.5    221.7792 106.425\n",
      "  71.     106.425  110.8833 227.525   79.65   110.8833  79.65    79.2\n",
      "  78.2667 153.4625  77.9583  69.3     76.7292  73.5    113.275  133.65\n",
      "  73.5    512.3292  76.7292 211.3375 110.8833 227.525  151.55   227.525\n",
      " 211.3375 512.3292  78.85   262.375   71.      86.5    120.      77.9583\n",
      " 211.3375  79.2     69.55   120.      93.5     80.      83.1583  69.55\n",
      "  89.1042 164.8667  69.55    83.1583]\n"
     ]
    }
   ],
   "source": [
    "# Obtenir els valors atípics (outliers)\n",
    "\n",
    "# Calcular els valors atípics per a la columna 'fare'\n",
    "q1_fare = np.percentile(train['Fare'].dropna(), 25)\n",
    "q3_fare = np.percentile(train['Fare'].dropna(), 75)\n",
    "iqr_fare = q3_fare - q1_fare\n",
    "lower_bound_fare = q1_fare - 1.5 * iqr_fare\n",
    "upper_bound_fare = q3_fare + 1.5 * iqr_fare\n",
    "outliers_fare = train['Fare'][(train['Fare'] < lower_bound_fare) | (train['Fare'] > upper_bound_fare)]\n",
    "\n",
    "print('Valors atípics per a fare:', outliers_fare.values)"
   ]
  },
  {
   "cell_type": "code",
   "execution_count": 31,
   "id": "6f8c867d",
   "metadata": {},
   "outputs": [
    {
     "data": {
      "image/png": "[encoded data removed]",
      "text/plain": [
       "<Figure size 640x480 with 1 Axes>"
      ]
     },
     "metadata": {},
     "output_type": "display_data"
    }
   ],
   "source": [
    "# Crear un boxplot horitzontal per a la columna 'Fare'\n",
    "sns.boxplot(x=train['Fare'], orient='h')\n",
    "plt.title('Boxplot for Fare')\n",
    "plt.show()"
   ]
  },
  {
   "cell_type": "markdown",
   "id": "7bf44a90",
   "metadata": {},
   "source": [
    "### ANÀLISI ESTADÍSTICA"
   ]
  },
  {
   "cell_type": "code",
   "execution_count": 32,
   "id": "b016e7f8",
   "metadata": {},
   "outputs": [
    {
     "data": {
      "text/html": [
       "<div>\n",
       "<style scoped>\n",
       "    .dataframe tbody tr th:only-of-type {\n",
       "        vertical-align: middle;\n",
       "    }\n",
       "\n",
       "    .dataframe tbody tr th {\n",
       "        vertical-align: top;\n",
       "    }\n",
       "\n",
       "    .dataframe thead th {\n",
       "        text-align: right;\n",
       "    }\n",
       "</style>\n",
       "<table border=\"1\" class=\"dataframe\">\n",
       "  <thead>\n",
       "    <tr style=\"text-align: right;\">\n",
       "      <th></th>\n",
       "      <th>PassengerId</th>\n",
       "      <th>Survived</th>\n",
       "      <th>Pclass</th>\n",
       "      <th>Age</th>\n",
       "      <th>SibSp</th>\n",
       "      <th>Parch</th>\n",
       "      <th>Fare</th>\n",
       "    </tr>\n",
       "  </thead>\n",
       "  <tbody>\n",
       "    <tr>\n",
       "      <th>count</th>\n",
       "      <td>891.000000</td>\n",
       "      <td>891.000000</td>\n",
       "      <td>891.000000</td>\n",
       "      <td>714.000000</td>\n",
       "      <td>891.000000</td>\n",
       "      <td>891.000000</td>\n",
       "      <td>891.000000</td>\n",
       "    </tr>\n",
       "    <tr>\n",
       "      <th>mean</th>\n",
       "      <td>446.000000</td>\n",
       "      <td>0.383838</td>\n",
       "      <td>2.308642</td>\n",
       "      <td>29.699118</td>\n",
       "      <td>0.523008</td>\n",
       "      <td>0.381594</td>\n",
       "      <td>32.204208</td>\n",
       "    </tr>\n",
       "    <tr>\n",
       "      <th>std</th>\n",
       "      <td>257.353842</td>\n",
       "      <td>0.486592</td>\n",
       "      <td>0.836071</td>\n",
       "      <td>14.526497</td>\n",
       "      <td>1.102743</td>\n",
       "      <td>0.806057</td>\n",
       "      <td>49.693429</td>\n",
       "    </tr>\n",
       "    <tr>\n",
       "      <th>min</th>\n",
       "      <td>1.000000</td>\n",
       "      <td>0.000000</td>\n",
       "      <td>1.000000</td>\n",
       "      <td>0.420000</td>\n",
       "      <td>0.000000</td>\n",
       "      <td>0.000000</td>\n",
       "      <td>0.000000</td>\n",
       "    </tr>\n",
       "    <tr>\n",
       "      <th>25%</th>\n",
       "      <td>223.500000</td>\n",
       "      <td>0.000000</td>\n",
       "      <td>2.000000</td>\n",
       "      <td>20.125000</td>\n",
       "      <td>0.000000</td>\n",
       "      <td>0.000000</td>\n",
       "      <td>7.910400</td>\n",
       "    </tr>\n",
       "    <tr>\n",
       "      <th>50%</th>\n",
       "      <td>446.000000</td>\n",
       "      <td>0.000000</td>\n",
       "      <td>3.000000</td>\n",
       "      <td>28.000000</td>\n",
       "      <td>0.000000</td>\n",
       "      <td>0.000000</td>\n",
       "      <td>14.454200</td>\n",
       "    </tr>\n",
       "    <tr>\n",
       "      <th>75%</th>\n",
       "      <td>668.500000</td>\n",
       "      <td>1.000000</td>\n",
       "      <td>3.000000</td>\n",
       "      <td>38.000000</td>\n",
       "      <td>1.000000</td>\n",
       "      <td>0.000000</td>\n",
       "      <td>31.000000</td>\n",
       "    </tr>\n",
       "    <tr>\n",
       "      <th>max</th>\n",
       "      <td>891.000000</td>\n",
       "      <td>1.000000</td>\n",
       "      <td>3.000000</td>\n",
       "      <td>80.000000</td>\n",
       "      <td>8.000000</td>\n",
       "      <td>6.000000</td>\n",
       "      <td>512.329200</td>\n",
       "    </tr>\n",
       "  </tbody>\n",
       "</table>\n",
       "</div>"
      ],
      "text/plain": [
       "       PassengerId    Survived      Pclass         Age       SibSp  \\\n",
       "count   891.000000  891.000000  891.000000  714.000000  891.000000   \n",
       "mean    446.000000    0.383838    2.308642   29.699118    0.523008   \n",
       "std     257.353842    0.486592    0.836071   14.526497    1.102743   \n",
       "min       1.000000    0.000000    1.000000    0.420000    0.000000   \n",
       "25%     223.500000    0.000000    2.000000   20.125000    0.000000   \n",
       "50%     446.000000    0.000000    3.000000   28.000000    0.000000   \n",
       "75%     668.500000    1.000000    3.000000   38.000000    1.000000   \n",
       "max     891.000000    1.000000    3.000000   80.000000    8.000000   \n",
       "\n",
       "            Parch        Fare  \n",
       "count  891.000000  891.000000  \n",
       "mean     0.381594   32.204208  \n",
       "std      0.806057   49.693429  \n",
       "min      0.000000    0.000000  \n",
       "25%      0.000000    7.910400  \n",
       "50%      0.000000   14.454200  \n",
       "75%      0.000000   31.000000  \n",
       "max      6.000000  512.329200  "
      ]
     },
     "execution_count": 32,
     "metadata": {},
     "output_type": "execute_result"
    }
   ],
   "source": [
    "# Describe (estadistics de les variables)\n",
    "train.describe()"
   ]
  },
  {
   "cell_type": "code",
   "execution_count": 33,
   "id": "f17a547d",
   "metadata": {},
   "outputs": [
    {
     "data": {
      "text/plain": [
       "<bound method NDFrame.describe of 0      0\n",
       "1      1\n",
       "2      1\n",
       "3      1\n",
       "4      0\n",
       "      ..\n",
       "886    0\n",
       "887    1\n",
       "888    0\n",
       "889    1\n",
       "890    0\n",
       "Name: Survived, Length: 891, dtype: int64>"
      ]
     },
     "execution_count": 33,
     "metadata": {},
     "output_type": "execute_result"
    }
   ],
   "source": [
    "# Describe (variable objectiu)\n",
    "train['Survived'].describe"
   ]
  },
  {
   "cell_type": "code",
   "execution_count": 34,
   "id": "31eb6c58",
   "metadata": {},
   "outputs": [
    {
     "data": {
      "image/png": "[encoded data removed]",
      "text/plain": [
       "<Figure size 640x480 with 1 Axes>"
      ]
     },
     "metadata": {},
     "output_type": "display_data"
    }
   ],
   "source": [
    "# Histograma de la gent que ha sobreviscut\n",
    "sns.countplot(x='Survived', data=train)\n",
    "plt.show()"
   ]
  },
  {
   "cell_type": "code",
   "execution_count": 35,
   "id": "8a1ee5ac",
   "metadata": {},
   "outputs": [
    {
     "data": {
      "image/png": "[encoded data removed]",
      "text/plain": [
       "<Figure size 640x480 with 1 Axes>"
      ]
     },
     "metadata": {},
     "output_type": "display_data"
    }
   ],
   "source": [
    "# Histograma de la gent que ha sobreviscut segons el sexe\n",
    "sns.countplot(x='Survived', hue = 'Sex', data=train)\n",
    "plt.show()"
   ]
  },
  {
   "cell_type": "code",
   "execution_count": 36,
   "id": "5fd4fd13",
   "metadata": {},
   "outputs": [
    {
     "data": {
      "text/plain": [
       "male      577\n",
       "female    314\n",
       "Name: Sex, dtype: int64"
      ]
     },
     "execution_count": 36,
     "metadata": {},
     "output_type": "execute_result"
    }
   ],
   "source": [
    "freq_m = train['Sex'].value_counts()\n",
    "freq_m"
   ]
  },
  {
   "cell_type": "code",
   "execution_count": 37,
   "id": "c1c5a6f1",
   "metadata": {},
   "outputs": [
    {
     "data": {
      "image/png": "[encoded data removed]",
      "text/plain": [
       "<Figure size 640x480 with 1 Axes>"
      ]
     },
     "metadata": {},
     "output_type": "display_data"
    }
   ],
   "source": [
    "# Histograma de la gent que ha sobreviscut segons la classe\n",
    "sns.countplot(x='Survived', hue = 'Pclass', data=train)\n",
    "plt.show()"
   ]
  },
  {
   "cell_type": "code",
   "execution_count": 38,
   "id": "a0b61462",
   "metadata": {},
   "outputs": [
    {
     "data": {
      "text/plain": [
       "male      577\n",
       "female    314\n",
       "Name: Sex, dtype: int64"
      ]
     },
     "execution_count": 38,
     "metadata": {},
     "output_type": "execute_result"
    }
   ],
   "source": [
    "# Freqüència de aparició d'una variable (per exemple el sexe)\n",
    "freq = train['Sex'].value_counts()\n",
    "freq"
   ]
  },
  {
   "cell_type": "code",
   "execution_count": 39,
   "id": "0753c4c4",
   "metadata": {},
   "outputs": [
    {
     "data": {
      "image/png": "[encoded data removed]",
      "text/plain": [
       "<Figure size 640x480 with 1 Axes>"
      ]
     },
     "metadata": {},
     "output_type": "display_data"
    }
   ],
   "source": [
    "# Representació gràfica de la freqüència d'aparició d'una variable\n",
    "plt.bar(freq.index.values, freq)\n",
    "# plt.sticks(freq.index.values,('label 0','label 1'))\n",
    "plt.ylabel ('counts')\n",
    "plt.title('Sex')\n",
    "plt.show()"
   ]
  },
  {
   "cell_type": "code",
   "execution_count": 40,
   "id": "e6e1d288",
   "metadata": {},
   "outputs": [
    {
     "data": {
      "image/png": "[encoded data removed]",
      "text/plain": [
       "<Figure size 640x480 with 1 Axes>"
      ]
     },
     "metadata": {},
     "output_type": "display_data"
    }
   ],
   "source": [
    "# Distribució de l'edat (no s'inclouen els valors faltants). Oisaré un grid perquè és vegi millor\n",
    "sns.set_style('whitegrid')\n",
    "sns.distplot(train['Age'].dropna(), kde = False, bins = 30)\n",
    "plt.show()\n",
    "\n",
    "# Veiem que surten 3 grups: un de joves 0-20, un de gent més gran 20-50 i un darrer de gen més gran de 50 que és menys abundant."
   ]
  },
  {
   "cell_type": "code",
   "execution_count": 41,
   "id": "de10c82d",
   "metadata": {},
   "outputs": [
    {
     "data": {
      "image/png": "[encoded data removed]",
      "text/plain": [
       "<Figure size 640x480 with 1 Axes>"
      ]
     },
     "metadata": {},
     "output_type": "display_data"
    }
   ],
   "source": [
    "# Aquest gràfic es podria fer directament amb pandas obtenin un gràfic similar amb agrupacions de 10 en 10.\n",
    "train['Age'].plot.hist(bins=30)                          # El bins=30 fa que les barres surtin més estretes\n",
    "plt.show()"
   ]
  },
  {
   "cell_type": "code",
   "execution_count": 42,
   "id": "6f098ba3",
   "metadata": {},
   "outputs": [
    {
     "data": {
      "image/png": "[encoded data removed]",
      "text/plain": [
       "<Figure size 640x480 with 1 Axes>"
      ]
     },
     "metadata": {},
     "output_type": "display_data"
    }
   ],
   "source": [
    "# Gràfic pel nº de germans o cònjuges\n",
    "sns.set_style('whitegrid')\n",
    "sns.countplot(x = 'SibSp' , data=train)\n",
    "plt.show()\n",
    "\n",
    "# Aqui veiem que la majoria de gent és soltera o ha vingut sola. Alguns venen amb la parella o amb més persones (families)"
   ]
  },
  {
   "cell_type": "code",
   "execution_count": 43,
   "id": "72f568c3",
   "metadata": {
    "scrolled": true
   },
   "outputs": [
    {
     "data": {
      "image/png": "[encoded data removed]",
      "text/plain": [
       "<Figure size 1500x600 with 1 Axes>"
      ]
     },
     "metadata": {},
     "output_type": "display_data"
    }
   ],
   "source": [
    "# Gràfic de la distribució dels bitllets (quan va pagar cada persona)\n",
    "sns.set_style('whitegrid')\n",
    "train['Age'].plot.hist(bins=30, figsize=(15,6)) \n",
    "plt.show()"
   ]
  },
  {
   "cell_type": "code",
   "execution_count": 44,
   "id": "3f26c754",
   "metadata": {},
   "outputs": [],
   "source": [
    "# Selecció de dades d'interès. Caldra mirar quines de les variables tenen importància a l'hora de veure si ha sobreviscut o no.\n",
    "# A la neteja de dades es veurà com tractar les dades faltants"
   ]
  },
  {
   "cell_type": "code",
   "execution_count": 45,
   "id": "f6aaf609",
   "metadata": {},
   "outputs": [],
   "source": [
    "# Creem el fitxer de requeriments1.txt per aquesta primer part de la pràctica"
   ]
  },
  {
   "cell_type": "code",
   "execution_count": 46,
   "id": "34210281",
   "metadata": {},
   "outputs": [],
   "source": [
    "!pip3 freeze > requeriments1.txt"
   ]
  },
  {
   "cell_type": "markdown",
   "id": "918ed19e",
   "metadata": {},
   "source": [
    "## A PARTIR D'AQUI VINDRIA LA SEGONA PART DE LA PRÀCTICA 2 - TCVD  - Feb24"
   ]
  },
  {
   "cell_type": "markdown",
   "id": "cbe10703",
   "metadata": {},
   "source": [
    "## INDEX DE LA SEGONA PART: PRÀCTICA 2 - TCVD  - Feb24\n",
    "\n",
    "### NETEJA DE DADES\n",
    "- Valors faltants\n",
    "- Imputacions\n",
    "- Variables categòriques\n",
    "- Eliminació les columnes no útils\n",
    "- Dades preprocessades --> dades rellevants per fer les nostres prediccions\n",
    "\n",
    "### PROVES DE NORMALITAT\n",
    "- Test de Shapiro-Wilk\n",
    "- Test de normalitat Q-Q plot\n",
    "\n",
    "### PROVES D'HOMOGENEITAT\n",
    "- Test d'Anderson-Darling\n",
    "- Test de Fligner-Killeen\n",
    "\n",
    "### PROVES ESTADÍSTIQUES\n",
    "- Test de Wilcoxon\n",
    "- Test de Kruskal-Wallis\n",
    "- Correlació de Spearman\n",
    "\n",
    "### CREACIÓ DEL MODEL\n",
    "- Regressió logística\n",
    "- Prediccions segons el model\n",
    "- Avaluació del model\n",
    "- Matriu de confusió\n",
    "- Corba ROC\n",
    "- Millores de la precissió: Canvis del thereshold\n",
    "    \n",
    "### LLIURAMENT DE DADES A KAGGLE\n",
    "- Puntuació\n",
    "\n",
    "### CREACIÓ DEL FITXER requeriments2.txt\n",
    "- Instrucció: !pip3 freeze > requeriments2.txt\n",
    "\n",
    "### LLIURAMENT DE LA PRÀCTICA COMPLETA\n",
    "- Penjar codi a GitHub\n",
    "- Penjar fitxer de requeriments a GitHub    "
   ]
  },
  {
   "cell_type": "code",
   "execution_count": 47,
   "id": "45c05905",
   "metadata": {},
   "outputs": [
    {
     "name": "stdout",
     "output_type": "stream",
     "text": [
      "finalització correcta de l'execució\n"
     ]
    }
   ],
   "source": [
    "print (\"finalització correcta de l'execució\")"
   ]
  }
 ],
 "metadata": {
  "kernelspec": {
   "display_name": "Python 3 (ipykernel)",
   "language": "python",
   "name": "python3"
  },
  "language_info": {
   "codemirror_mode": {
    "name": "ipython",
    "version": 3
   },
   "file_extension": ".py",
   "mimetype": "text/x-python",
   "name": "python",
   "nbconvert_exporter": "python",
   "pygments_lexer": "ipython3",
   "version": "3.10.9"
  }
 },
 "nbformat": 4,
 "nbformat_minor": 5
}
